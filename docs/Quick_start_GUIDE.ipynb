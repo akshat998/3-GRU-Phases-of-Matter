{
 "cells": [
  {
   "cell_type": "markdown",
   "metadata": {},
   "source": [
    "# Welcome To Ǫ́-Hbert\n",
    "---\n",
    "\n",
    "\n",
    "This tutorial will give you an overview of all that [Ǫ́-Hbert](https://github.com/akshat998/Q-Hbert) has to offer. Please feel free to play around yourself!.\n",
    "\n",
    "The entire tutorial is broken down into steps. So, if you are new, please go step by step. The repository can be found [Here](https://github.com/akshat998/Q-Hbert).\n",
    "\n",
    "Please read the following [PAPER](https://arxiv.org/abs/1810.10584) . All implementation is in conjunction with the findings of the paper."
   ]
  },
  {
   "cell_type": "markdown",
   "metadata": {},
   "source": [
    "## SETUP\n",
    "---\n",
    "\n",
    "For a quick start, please ensure the following.\n",
    "\n",
    "* Clone the repository:\n",
    "    In an appropriate directory run the following command on your Terminal:\n",
    "    \n",
    "    `git clone https://github.com/akshat998/Q-Hbert.git`\n",
    "    \n",
    "    \n",
    "* Make sure you `cd` into the right directory. \n",
    "\n",
    "   `cd Q-Hbert/`"
   ]
  },
  {
   "cell_type": "markdown",
   "metadata": {},
   "source": [
    "## STEP 1: DATA CREATION\n",
    "---\n",
    "Please make sure you are in the directory `Q-Hbert`. Further, you will need to be in the directory `data_creator`. Please run `cd data_creator/`"
   ]
  },
  {
   "cell_type": "markdown",
   "metadata": {},
   "source": [
    "All that needs to be done in this step is to run the following scipt:\n",
    "\n",
    "`python3 noisy_generation.py`\n",
    "\n",
    "#### You will be prompted, and given choices to generate data based on:\n",
    "\n",
    "- POVM types: 4Pauli, Tetra, Pauli, Pauli_rebit, Trine, Psi2. \n",
    "- Number of qubits\n",
    "- MPS type  : GHZ (or importing a uder-defined MPS file)\n",
    "- Adding local noise with a certain probability\n",
    "- The size of the data set (number of samples)\n",
    "- Directory name for saving all the data \n",
    "\n",
    "#### Example\n",
    "\n",
    "We run the command `python noisy_generation.py ` with the options of:\n",
    "- **Trine** positive valued measurement (POVM)\n",
    "- **2** qubits\n",
    "- **GHZ** matrix product state (MPS)\n",
    "- **0** probability local noise\n",
    "- **1000** samples\n",
    "- **Trine_2qb_1000s** directory name\n",
    "\n",
    "#### Note: The generated data example can be found in  `DATA/Trine_2qb_1000s` under file names: `data.txt` & `train.txt` \n",
    "- **data.txt** : Contains the raw data generated after running `noisy_generation.py `\n",
    "- **train.txt**: Contains a one-hot version of the data in `data.txt`. We utilize the data in `train.txt` for trianing our models."
   ]
  },
  {
   "cell_type": "markdown",
   "metadata": {},
   "source": [
    "Want to import a Custom MPS file? Check out [these instructions.](custom_mps_HowTo.ipynb)"
   ]
  },
  {
   "cell_type": "markdown",
   "metadata": {},
   "source": [
    "#### Want to understand how `noisy_generation.py` works? Check out this [Back-End explanation](data_gen_expln.ipynb)\n"
   ]
  },
  {
   "cell_type": "code",
   "execution_count": null,
   "metadata": {},
   "outputs": [],
   "source": []
  }
 ],
 "metadata": {
  "kernelspec": {
   "display_name": "Python 3",
   "language": "python",
   "name": "python3"
  },
  "language_info": {
   "codemirror_mode": {
    "name": "ipython",
    "version": 3
   },
   "file_extension": ".py",
   "mimetype": "text/x-python",
   "name": "python",
   "nbconvert_exporter": "python",
   "pygments_lexer": "ipython3",
   "version": "3.6.4"
  }
 },
 "nbformat": 4,
 "nbformat_minor": 2
}
