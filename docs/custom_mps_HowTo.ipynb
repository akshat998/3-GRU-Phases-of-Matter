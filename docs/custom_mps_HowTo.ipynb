{
 "cells": [
  {
   "cell_type": "markdown",
   "metadata": {},
   "source": [
    "## Importing a *CUSTOM* MPS file: \n",
    "---\n",
    "\n",
    "While running `noisy_generation.py`, the user has an option to import custom *MPS* information for generating data. In order to do so, simply name the directory with the *custom* MPS information. The **directory** must contain **two** files: `index.txt` & `tensor.txt`\n",
    "\n",
    "We explain the format of these files using an example (provided in `data_creator/custom_MPS_example/`). The contents of this folder are two files: *index.txt* & *tensor.txt*\n",
    "\n",
    "### 1. An Explanation of *index.txt* \n",
    "\n",
    "The file contains information of 16 informationally complete POVMs.The contents of the file can be understood using the following tesnsor network:\n",
    "\n",
    "![Tensor Network Example](index_tensor_expln.png)\n",
    "Considering the above diagram\n",
    "- Tensor *1* has 2 indices\n",
    "- Tensors *1* to *15* have 3 indices\n",
    "- And tensor *16* has 2 indices.  \n",
    "\n",
    "Just like the above diagram, column 1 of *index.txt* represents the number of indices of each tensor of the tensor network (from left to right).\n",
    "\n",
    "Subsequent columns indicate the dimension of each index in a tensor. Using the following notation:\n",
    "\n",
    "![Notation](giaccamos_notation.png)\n",
    "\n",
    "Dimension of *index i* is mentioned first, followed by *index j* and *k*.\n",
    "\n",
    "As a whole, consider an entire row:\n",
    "\n",
    "`[3\t70\t16   2   8 ]` \n",
    "\n",
    "In this example:\n",
    "- the tensor has 3 indices,\n",
    "- 70 non-zero values,\n",
    "- and *indices i,j,k* have dimension 16, 2, 8.\n",
    "\n",
    "\n",
    "### 2. An Explanation of *tensor.txt*\n",
    "\n",
    "*tensor.txt* contains non-zero values of each tensor T (from 1 to N), in the following form:\n",
    "\n",
    "\n",
    "index1 index2 T(index1,index2) <br />\n",
    "... <br />\n",
    "index1 index2 index3 T(index1,index2,index3)\n",
    "\n",
    "\n",
    "### Running our Custom MPS Example:\n",
    "\n",
    "To make sure you understand how to import your own MPS file, try running our example. Simply Provide the following\n",
    "parameters while running `noisy_generation.py`:\n",
    "- POVM : Trine\n",
    "- Number of Qubits: 16\n",
    "- Local Noise : 0\n",
    "- Number of sample: 1000\n",
    "- Save Directory: custom_eg_check"
   ]
  },
  {
   "cell_type": "code",
   "execution_count": null,
   "metadata": {},
   "outputs": [],
   "source": []
  }
 ],
 "metadata": {
  "kernelspec": {
   "display_name": "Python 3",
   "language": "python",
   "name": "python3"
  },
  "language_info": {
   "codemirror_mode": {
    "name": "ipython",
    "version": 3
   },
   "file_extension": ".py",
   "mimetype": "text/x-python",
   "name": "python",
   "nbconvert_exporter": "python",
   "pygments_lexer": "ipython3",
   "version": "3.6.4"
  }
 },
 "nbformat": 4,
 "nbformat_minor": 2
}
