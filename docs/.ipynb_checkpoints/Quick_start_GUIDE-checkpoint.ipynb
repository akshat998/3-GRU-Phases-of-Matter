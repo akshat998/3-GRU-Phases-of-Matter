{
 "cells": [
  {
   "cell_type": "markdown",
   "metadata": {},
   "source": [
    "# Welcome To Ǫ́-Hbert\n",
    "\n",
    "\n",
    "This tutorial will give you an overview of all that [Ǫ́-Hbert](https://github.com/akshat998/Q-Hbert) has to offer. Please feel free to play around yourself!.\n",
    "\n",
    "The entire tutorial is broken down into steps. So, if you are new, please go step by step. The repository can be found [Here](https://github.com/akshat998/Q-Hbert).\n",
    "\n",
    "Please read the following [PAPER](https://arxiv.org/abs/1810.10584) . All implementation is in conjunction with the findings of the paper."
   ]
  },
  {
   "cell_type": "markdown",
   "metadata": {},
   "source": [
    "## SETUP\n",
    "\n",
    "For a quick start, please ensure the following.\n",
    "\n",
    "* Clone the repository:\n",
    "    In an appropriate directory run the following command on your Terminal:\n",
    "    \n",
    "    `git clone https://github.com/akshat998/Q-Hbert.git`\n",
    "    \n",
    "    \n",
    "* Make sure you `cd` into the right directory. \n",
    "\n",
    "   `cd Q-Hbert/`"
   ]
  },
  {
   "cell_type": "markdown",
   "metadata": {},
   "source": [
    "## STEP 1: DATA CREATION"
   ]
  },
  {
   "cell_type": "markdown",
   "metadata": {},
   "source": [
    "Please make sure you are in the directory `Q-Hbert`. Further, you will need to be in the directory `data_creator`. Please run `cd data_creator/`"
   ]
  },
  {
   "cell_type": "markdown",
   "metadata": {},
   "source": [
    "All that needs to be done in this step is to run the following scipt:\n",
    "\n",
    "`python3 noisy_generation.py`\n",
    "\n",
    "#### You will be prompted, and given choices to generate data based on:\n",
    "\n",
    "1. POVM types: 4Pauli, Tetra, Pauli, Pauli_rebit, Trine, Psi2. \n",
    "2. Number of qubits\n",
    "3. MPS type  : GHZ (or importing a uder-defined MPS file)\n",
    "4. Adding local noise with a certain probability\n",
    "5. The size of the data set (number of samples)\n",
    "6. Directory name for saving all the data \n",
    "\n",
    "#### Example\n",
    "\n",
    "We run the command `python noisy_generation.py ` with the options of:\n",
    "- **Trine** positive valued measurement (POVM)\n",
    "- **2** qubits\n",
    "- **GHZ** matrix product state (MPS)\n",
    "- **0** local noise\n",
    "- **1000** samples\n",
    "- Directory name **Trine_2qb_1000s**\n",
    "Note: All data is stored in directory  `DATA/`"
   ]
  },
  {
   "cell_type": "markdown",
   "metadata": {},
   "source": [
    "#### Importing a user provided MPS file: // TODO\n",
    "\n",
    "While running `noisy_generation.py`, the user has the choice to import a custom file(with Matrix Product State information) for generating data. The files need to be in a specific format."
   ]
  },
  {
   "cell_type": "markdown",
   "metadata": {},
   "source": [
    "#### Want to understand how `noisy_generation.py` works? Check out the BACK-END explanation //TODO"
   ]
  },
  {
   "cell_type": "code",
   "execution_count": null,
   "metadata": {},
   "outputs": [],
   "source": []
  }
 ],
 "metadata": {
  "kernelspec": {
   "display_name": "Python 3",
   "language": "python",
   "name": "python3"
  },
  "language_info": {
   "codemirror_mode": {
    "name": "ipython",
    "version": 3
   },
   "file_extension": ".py",
   "mimetype": "text/x-python",
   "name": "python",
   "nbconvert_exporter": "python",
   "pygments_lexer": "ipython3",
   "version": "3.6.4"
  }
 },
 "nbformat": 4,
 "nbformat_minor": 2
}
