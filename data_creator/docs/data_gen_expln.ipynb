{
 "cells": [
  {
   "cell_type": "markdown",
   "metadata": {},
   "source": [
    "# HOW THE DATA IS CREATED?\n",
    "\n",
    "The entire back-end of creating our data set is implemented via Tensor Networks"
   ]
  },
  {
   "cell_type": "markdown",
   "metadata": {},
   "source": [
    "## `noisy_generation.py`\n",
    "---"
   ]
  },
  {
   "cell_type": "markdown",
   "metadata": {},
   "source": [
    "**noisy_generation.py** generates our data set. It genrates conditional probabilities of the state of *N* qubits. \n",
    "\n",
    "### Example\n",
    "Consider computing:\n",
    "\n",
    "\\begin{equation*}\n",
    "p(a_1, a_2, a_3, a_4)\n",
    "\\end{equation*}\n",
    "\n",
    "The tensor network implementation of this shall be:\n",
    "\n",
    "![Tensor Network Example](4_tensor_eg.png)"
   ]
  },
  {
   "cell_type": "markdown",
   "metadata": {},
   "source": [
    "### Generalizing to N qubits:\n",
    "\n",
    "\n",
    " \\begin{equation*}Calculating: p(a_1) \\end{equation*} \n",
    " ![P(a1)](N_qb_gen.png)\n",
    " \n",
    " **We now repeat the above process for:**\n",
    " \\begin{equation*}\n",
    " p(a_2 | a_1), \n",
    " \\end{equation*} \n",
    " \n",
    " \\begin{equation*}\n",
    " p(a_3 | a_2 a_1) \n",
    " \\end{equation*} \n",
    " \n",
    " \\begin{equation*}\n",
    "   p(a_N | a_{N-1} ... a_2 a_1)\n",
    "  \\end{equation*} "
   ]
  },
  {
   "cell_type": "markdown",
   "metadata": {},
   "source": [
    "## `ncon.py`\n",
    "---"
   ]
  },
  {
   "cell_type": "markdown",
   "metadata": {},
   "source": [
    "**ncon** is a module for the contraction of several tensors along particular dimensions. The working of *ncon* is best explained through examples*:\n",
    "\n",
    "#### Example 1\n",
    "\n",
    "![Example 1](ncon_eg_1.png)\n",
    "\n",
    "\n",
    "#### Example 2\n",
    "\n",
    "![Example 1](ncon_eg_2.png)\n"
   ]
  },
  {
   "cell_type": "code",
   "execution_count": null,
   "metadata": {},
   "outputs": [],
   "source": []
  }
 ],
 "metadata": {
  "kernelspec": {
   "display_name": "Python 3",
   "language": "python",
   "name": "python3"
  },
  "language_info": {
   "codemirror_mode": {
    "name": "ipython",
    "version": 3
   },
   "file_extension": ".py",
   "mimetype": "text/x-python",
   "name": "python",
   "nbconvert_exporter": "python",
   "pygments_lexer": "ipython3",
   "version": "3.6.8"
  }
 },
 "nbformat": 4,
 "nbformat_minor": 2
}
